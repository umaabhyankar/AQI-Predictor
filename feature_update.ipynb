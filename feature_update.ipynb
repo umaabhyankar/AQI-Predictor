{
  "nbformat": 4,
  "nbformat_minor": 0,
  "metadata": {
    "colab": {
      "provenance": [],
      "authorship_tag": "ABX9TyOwR2icXATEgjWtXujvUXXH",
      "include_colab_link": true
    },
    "kernelspec": {
      "name": "python3",
      "display_name": "Python 3"
    },
    "language_info": {
      "name": "python"
    }
  },
  "cells": [
    {
      "cell_type": "markdown",
      "metadata": {
        "id": "view-in-github",
        "colab_type": "text"
      },
      "source": [
        "<a href=\"https://colab.research.google.com/github/umaabhyankar/AQI-Predictor/blob/main/feature_update.ipynb\" target=\"_parent\"><img src=\"https://colab.research.google.com/assets/colab-badge.svg\" alt=\"Open In Colab\"/></a>"
      ]
    },
    {
      "cell_type": "code",
      "execution_count": null,
      "metadata": {
        "id": "GDtp2EayESSY"
      },
      "outputs": [],
      "source": [
        "!pip install -U hopsworks --quiet"
      ]
    },
    {
      "cell_type": "code",
      "source": [
        "!pip install geopy folium streamlit-folium --q"
      ],
      "metadata": {
        "id": "6LeNQppyEetn"
      },
      "execution_count": null,
      "outputs": []
    },
    {
      "cell_type": "code",
      "source": [
        "import datetime\n",
        "import time\n",
        "import requests\n",
        "import pandas as pd\n",
        "import numpy as np\n",
        "import json\n",
        "\n",
        "from feature_funcs import *\n",
        "\n",
        "import warnings\n",
        "warnings.filterwarnings(\"ignore\")"
      ],
      "metadata": {
        "id": "Xm6qY3mMEhQ_"
      },
      "execution_count": 33,
      "outputs": []
    },
    {
      "cell_type": "code",
      "source": [
        "today = datetime.date.today()"
      ],
      "metadata": {
        "id": "7FysYYAjEl91"
      },
      "execution_count": 15,
      "outputs": []
    },
    {
      "cell_type": "code",
      "source": [
        "response_API = requests.get('https://api.waqi.info/feed/solapur/?token=6e62f66525787498e49dd5df9d7a3993ff183759')"
      ],
      "metadata": {
        "id": "LRmRtaM0THUA"
      },
      "execution_count": 69,
      "outputs": []
    },
    {
      "cell_type": "code",
      "source": [
        "data = response_API.text"
      ],
      "metadata": {
        "id": "m0jnYyehT24Q"
      },
      "execution_count": 70,
      "outputs": []
    },
    {
      "cell_type": "code",
      "source": [
        "df_data = json.loads(data)"
      ],
      "metadata": {
        "id": "VuRZbSD2T264"
      },
      "execution_count": 71,
      "outputs": []
    },
    {
      "cell_type": "code",
      "source": [
        "df_forecast = pd.DataFrame(columns = ['date', 'average', 'pollutant'])\n",
        "for pollutant, values in df_data['data']['forecast']['daily'].items():\n",
        "  df_forecast_x = pd.DataFrame()\n",
        "  df_forecast_x['date'] = [i['day'] for i in values]\n",
        "  df_forecast_x['average'] = [i['avg'] for i in values]\n",
        "  df_forecast_x['pollutant'] = [pollutant] * len(values)\n",
        "  df_forecast = df_forecast.append(df_forecast_x)"
      ],
      "metadata": {
        "id": "HHgL4nTHd1xJ"
      },
      "execution_count": 72,
      "outputs": []
    },
    {
      "cell_type": "code",
      "source": [
        "table = pd.pivot_table(df_forecast, values ='average', index =['date'],\n",
        "                         columns =['pollutant'], aggfunc = np.sum)"
      ],
      "metadata": {
        "id": "fQMOwRKucRIx"
      },
      "execution_count": 73,
      "outputs": []
    },
    {
      "cell_type": "code",
      "source": [
        "table.reset_index(inplace = True)"
      ],
      "metadata": {
        "id": "eDkv5Alqf8ig"
      },
      "execution_count": 74,
      "outputs": []
    },
    {
      "cell_type": "code",
      "source": [
        "table = table[['date','pm25','pm10','o3']]"
      ],
      "metadata": {
        "id": "GQeoMEAvgIQ2"
      },
      "execution_count": 75,
      "outputs": []
    },
    {
      "cell_type": "code",
      "source": [
        "table['no2'] = [0]*len(table)\n",
        "table['so2'] = [0]*len(table)\n",
        "table['co'] = [0]*len(table)"
      ],
      "metadata": {
        "id": "WrQIIEFXhPjW"
      },
      "execution_count": 76,
      "outputs": []
    },
    {
      "cell_type": "code",
      "source": [
        "table['date'] = pd.to_datetime(table['date'])"
      ],
      "metadata": {
        "id": "499hPYjBjqhX"
      },
      "execution_count": 77,
      "outputs": []
    },
    {
      "cell_type": "code",
      "source": [
        "table.fillna(0, inplace=True)"
      ],
      "metadata": {
        "id": "3H1fl_OYM18Y"
      },
      "execution_count": 78,
      "outputs": []
    },
    {
      "cell_type": "code",
      "source": [
        "table['no2'] = table['no2'].astype('float')\n",
        "table['so2'] = table['so2'].astype('float')\n",
        "table['co'] = table['co'].astype('float')"
      ],
      "metadata": {
        "id": "smnCdyjAK_rp"
      },
      "execution_count": 79,
      "outputs": []
    },
    {
      "cell_type": "code",
      "source": [
        "table['n_count'] = np.count_nonzero(table[['pm25', 'pm10', 'o3', 'no2', 'so2', 'co']], axis=1)\n",
        "table['n_count'] = table['n_count'].astype('float')"
      ],
      "metadata": {
        "id": "5QNl5QiLWToI"
      },
      "execution_count": 80,
      "outputs": []
    },
    {
      "cell_type": "code",
      "source": [
        "pm10_si_list = []\n",
        "pm25_si_list = []\n",
        "so2_si_list = []\n",
        "no2_si_list = []\n",
        "co_si_list = []\n",
        "o3_si_list = []\n",
        "\n",
        "for i in table['pm10']:\n",
        "    pm10_si_list.append(pm10_sub_index(i))\n",
        "\n",
        "for i in table['pm25']:\n",
        "    pm25_si_list.append(pm25_sub_index(i))\n",
        "\n",
        "for i in table['o3']:\n",
        "    o3_si_list.append(o3_sub_index(i))\n",
        "\n",
        "for i in table['no2']:\n",
        "    no2_si_list.append(no2_sub_index(i))\n",
        "\n",
        "for i in table['so2']:\n",
        "    so2_si_list.append(so2_sub_index(i))\n",
        "\n",
        "for i in table['co']:\n",
        "    co_si_list.append(co_sub_index(i))"
      ],
      "metadata": {
        "id": "F3pmat9OVcci"
      },
      "execution_count": 81,
      "outputs": []
    },
    {
      "cell_type": "code",
      "source": [
        "table['pm10_si'] = pm10_si_list\n",
        "table['pm25_si'] = pm25_si_list\n",
        "table['o3_si'] = o3_si_list\n",
        "table['no2_si'] = no2_si_list\n",
        "table['so2_si'] = so2_si_list\n",
        "table['co_si'] = co_si_list"
      ],
      "metadata": {
        "id": "dPEPrub2K_w4"
      },
      "execution_count": 82,
      "outputs": []
    },
    {
      "cell_type": "code",
      "source": [
        "table['AQI'] = table[['pm10_si', 'pm25_si', 'o3_si', 'no2_si', 'so2_si', 'co_si']].max(axis = 1)"
      ],
      "metadata": {
        "id": "j1diECbdK_zb"
      },
      "execution_count": 83,
      "outputs": []
    },
    {
      "cell_type": "code",
      "source": [
        "import hopsworks\n",
        "\n",
        "project = hopsworks.login()\n",
        "fs = project.get_feature_store()\n",
        "\n",
        "air_quality_fg = fs.get_or_create_feature_group(\n",
        "    name = 'air_quality',\n",
        "    version = 1\n",
        ")"
      ],
      "metadata": {
        "id": "dAjSSj-WT3AF"
      },
      "execution_count": null,
      "outputs": []
    },
    {
      "cell_type": "code",
      "source": [
        "air_quality_fg.insert(table, write_options={\"wait_for_job\": False})"
      ],
      "metadata": {
        "id": "p8juj2xmT3FO"
      },
      "execution_count": null,
      "outputs": []
    },
    {
      "cell_type": "code",
      "source": [],
      "metadata": {
        "id": "s3feoYkYT3Iq"
      },
      "execution_count": null,
      "outputs": []
    }
  ]
}
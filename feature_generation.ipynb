{
  "nbformat": 4,
  "nbformat_minor": 0,
  "metadata": {
    "colab": {
      "provenance": [],
      "authorship_tag": "ABX9TyMbD/jpIKL0arGNjlPEPeyL",
      "include_colab_link": true
    },
    "kernelspec": {
      "name": "python3",
      "display_name": "Python 3"
    },
    "language_info": {
      "name": "python"
    }
  },
  "cells": [
    {
      "cell_type": "markdown",
      "metadata": {
        "id": "view-in-github",
        "colab_type": "text"
      },
      "source": [
        "<a href=\"https://colab.research.google.com/github/umaabhyankar/AQI-Predictor/blob/main/feature_generation.ipynb\" target=\"_parent\"><img src=\"https://colab.research.google.com/assets/colab-badge.svg\" alt=\"Open In Colab\"/></a>"
      ]
    },
    {
      "cell_type": "code",
      "execution_count": 1,
      "metadata": {
        "id": "LzZ4ZJDLX6Ki"
      },
      "outputs": [],
      "source": [
        "!pip install -U hopsworks --quiet"
      ]
    },
    {
      "cell_type": "code",
      "source": [
        "!pip install geopy folium streamlit-folium --q"
      ],
      "metadata": {
        "id": "yiZPzeY5ZJPI"
      },
      "execution_count": 2,
      "outputs": []
    },
    {
      "cell_type": "code",
      "source": [
        "import datetime\n",
        "import time\n",
        "import requests\n",
        "import json\n",
        "\n",
        "import numpy as np\n",
        "import pandas as pd\n",
        "import folium\n",
        "import os\n",
        "\n",
        "from feature_funcs import *\n",
        "\n",
        "import warnings\n",
        "warnings.filterwarnings(\"ignore\")"
      ],
      "metadata": {
        "id": "AEDbWTltZJmL"
      },
      "execution_count": 55,
      "outputs": []
    },
    {
      "cell_type": "markdown",
      "source": [
        "# Feature Engineering"
      ],
      "metadata": {
        "id": "bgQd8_hwavBT"
      }
    },
    {
      "cell_type": "code",
      "source": [
        "df = pd.read_csv('data/solapur_india_air_quality.csv')"
      ],
      "metadata": {
        "id": "3qp7gks2ZJo4"
      },
      "execution_count": 62,
      "outputs": []
    },
    {
      "cell_type": "code",
      "source": [
        "df"
      ],
      "metadata": {
        "id": "WixajZ_9ZJr9",
        "colab": {
          "base_uri": "https://localhost:8080/",
          "height": 423
        },
        "outputId": "4fea6f82-57d8-4c17-82f0-fd7efd1c63c2"
      },
      "execution_count": 63,
      "outputs": [
        {
          "output_type": "execute_result",
          "data": {
            "text/plain": [
              "           date  pm25  pm10   o3  no2  so2  co\n",
              "0      2023/7/1   116    88   18   18   11    \n",
              "1      2023/7/2    95    85   18   18   11    \n",
              "2      2023/7/3    92    78   20   18   11    \n",
              "3      2023/7/4    85    75   20   18   11    \n",
              "4      2023/7/5    81    75   20   17   12    \n",
              "...         ...   ...   ...  ...  ...  ...  ..\n",
              "2266  2021/7/18                     3         \n",
              "2267  2021/8/29                     3         \n",
              "2268  2021/9/30                     2         \n",
              "2269  2021/6/20                     2         \n",
              "2270  2020/9/17                     7         \n",
              "\n",
              "[2271 rows x 7 columns]"
            ],
            "text/html": [
              "\n",
              "  <div id=\"df-30ae60af-815b-48be-ae0f-45c6a0f5f3ba\">\n",
              "    <div class=\"colab-df-container\">\n",
              "      <div>\n",
              "<style scoped>\n",
              "    .dataframe tbody tr th:only-of-type {\n",
              "        vertical-align: middle;\n",
              "    }\n",
              "\n",
              "    .dataframe tbody tr th {\n",
              "        vertical-align: top;\n",
              "    }\n",
              "\n",
              "    .dataframe thead th {\n",
              "        text-align: right;\n",
              "    }\n",
              "</style>\n",
              "<table border=\"1\" class=\"dataframe\">\n",
              "  <thead>\n",
              "    <tr style=\"text-align: right;\">\n",
              "      <th></th>\n",
              "      <th>date</th>\n",
              "      <th>pm25</th>\n",
              "      <th>pm10</th>\n",
              "      <th>o3</th>\n",
              "      <th>no2</th>\n",
              "      <th>so2</th>\n",
              "      <th>co</th>\n",
              "    </tr>\n",
              "  </thead>\n",
              "  <tbody>\n",
              "    <tr>\n",
              "      <th>0</th>\n",
              "      <td>2023/7/1</td>\n",
              "      <td>116</td>\n",
              "      <td>88</td>\n",
              "      <td>18</td>\n",
              "      <td>18</td>\n",
              "      <td>11</td>\n",
              "      <td></td>\n",
              "    </tr>\n",
              "    <tr>\n",
              "      <th>1</th>\n",
              "      <td>2023/7/2</td>\n",
              "      <td>95</td>\n",
              "      <td>85</td>\n",
              "      <td>18</td>\n",
              "      <td>18</td>\n",
              "      <td>11</td>\n",
              "      <td></td>\n",
              "    </tr>\n",
              "    <tr>\n",
              "      <th>2</th>\n",
              "      <td>2023/7/3</td>\n",
              "      <td>92</td>\n",
              "      <td>78</td>\n",
              "      <td>20</td>\n",
              "      <td>18</td>\n",
              "      <td>11</td>\n",
              "      <td></td>\n",
              "    </tr>\n",
              "    <tr>\n",
              "      <th>3</th>\n",
              "      <td>2023/7/4</td>\n",
              "      <td>85</td>\n",
              "      <td>75</td>\n",
              "      <td>20</td>\n",
              "      <td>18</td>\n",
              "      <td>11</td>\n",
              "      <td></td>\n",
              "    </tr>\n",
              "    <tr>\n",
              "      <th>4</th>\n",
              "      <td>2023/7/5</td>\n",
              "      <td>81</td>\n",
              "      <td>75</td>\n",
              "      <td>20</td>\n",
              "      <td>17</td>\n",
              "      <td>12</td>\n",
              "      <td></td>\n",
              "    </tr>\n",
              "    <tr>\n",
              "      <th>...</th>\n",
              "      <td>...</td>\n",
              "      <td>...</td>\n",
              "      <td>...</td>\n",
              "      <td>...</td>\n",
              "      <td>...</td>\n",
              "      <td>...</td>\n",
              "      <td>...</td>\n",
              "    </tr>\n",
              "    <tr>\n",
              "      <th>2266</th>\n",
              "      <td>2021/7/18</td>\n",
              "      <td></td>\n",
              "      <td></td>\n",
              "      <td></td>\n",
              "      <td>3</td>\n",
              "      <td></td>\n",
              "      <td></td>\n",
              "    </tr>\n",
              "    <tr>\n",
              "      <th>2267</th>\n",
              "      <td>2021/8/29</td>\n",
              "      <td></td>\n",
              "      <td></td>\n",
              "      <td></td>\n",
              "      <td>3</td>\n",
              "      <td></td>\n",
              "      <td></td>\n",
              "    </tr>\n",
              "    <tr>\n",
              "      <th>2268</th>\n",
              "      <td>2021/9/30</td>\n",
              "      <td></td>\n",
              "      <td></td>\n",
              "      <td></td>\n",
              "      <td>2</td>\n",
              "      <td></td>\n",
              "      <td></td>\n",
              "    </tr>\n",
              "    <tr>\n",
              "      <th>2269</th>\n",
              "      <td>2021/6/20</td>\n",
              "      <td></td>\n",
              "      <td></td>\n",
              "      <td></td>\n",
              "      <td>2</td>\n",
              "      <td></td>\n",
              "      <td></td>\n",
              "    </tr>\n",
              "    <tr>\n",
              "      <th>2270</th>\n",
              "      <td>2020/9/17</td>\n",
              "      <td></td>\n",
              "      <td></td>\n",
              "      <td></td>\n",
              "      <td>7</td>\n",
              "      <td></td>\n",
              "      <td></td>\n",
              "    </tr>\n",
              "  </tbody>\n",
              "</table>\n",
              "<p>2271 rows × 7 columns</p>\n",
              "</div>\n",
              "      <button class=\"colab-df-convert\" onclick=\"convertToInteractive('df-30ae60af-815b-48be-ae0f-45c6a0f5f3ba')\"\n",
              "              title=\"Convert this dataframe to an interactive table.\"\n",
              "              style=\"display:none;\">\n",
              "        \n",
              "  <svg xmlns=\"http://www.w3.org/2000/svg\" height=\"24px\"viewBox=\"0 0 24 24\"\n",
              "       width=\"24px\">\n",
              "    <path d=\"M0 0h24v24H0V0z\" fill=\"none\"/>\n",
              "    <path d=\"M18.56 5.44l.94 2.06.94-2.06 2.06-.94-2.06-.94-.94-2.06-.94 2.06-2.06.94zm-11 1L8.5 8.5l.94-2.06 2.06-.94-2.06-.94L8.5 2.5l-.94 2.06-2.06.94zm10 10l.94 2.06.94-2.06 2.06-.94-2.06-.94-.94-2.06-.94 2.06-2.06.94z\"/><path d=\"M17.41 7.96l-1.37-1.37c-.4-.4-.92-.59-1.43-.59-.52 0-1.04.2-1.43.59L10.3 9.45l-7.72 7.72c-.78.78-.78 2.05 0 2.83L4 21.41c.39.39.9.59 1.41.59.51 0 1.02-.2 1.41-.59l7.78-7.78 2.81-2.81c.8-.78.8-2.07 0-2.86zM5.41 20L4 18.59l7.72-7.72 1.47 1.35L5.41 20z\"/>\n",
              "  </svg>\n",
              "      </button>\n",
              "      \n",
              "  <style>\n",
              "    .colab-df-container {\n",
              "      display:flex;\n",
              "      flex-wrap:wrap;\n",
              "      gap: 12px;\n",
              "    }\n",
              "\n",
              "    .colab-df-convert {\n",
              "      background-color: #E8F0FE;\n",
              "      border: none;\n",
              "      border-radius: 50%;\n",
              "      cursor: pointer;\n",
              "      display: none;\n",
              "      fill: #1967D2;\n",
              "      height: 32px;\n",
              "      padding: 0 0 0 0;\n",
              "      width: 32px;\n",
              "    }\n",
              "\n",
              "    .colab-df-convert:hover {\n",
              "      background-color: #E2EBFA;\n",
              "      box-shadow: 0px 1px 2px rgba(60, 64, 67, 0.3), 0px 1px 3px 1px rgba(60, 64, 67, 0.15);\n",
              "      fill: #174EA6;\n",
              "    }\n",
              "\n",
              "    [theme=dark] .colab-df-convert {\n",
              "      background-color: #3B4455;\n",
              "      fill: #D2E3FC;\n",
              "    }\n",
              "\n",
              "    [theme=dark] .colab-df-convert:hover {\n",
              "      background-color: #434B5C;\n",
              "      box-shadow: 0px 1px 3px 1px rgba(0, 0, 0, 0.15);\n",
              "      filter: drop-shadow(0px 1px 2px rgba(0, 0, 0, 0.3));\n",
              "      fill: #FFFFFF;\n",
              "    }\n",
              "  </style>\n",
              "\n",
              "      <script>\n",
              "        const buttonEl =\n",
              "          document.querySelector('#df-30ae60af-815b-48be-ae0f-45c6a0f5f3ba button.colab-df-convert');\n",
              "        buttonEl.style.display =\n",
              "          google.colab.kernel.accessAllowed ? 'block' : 'none';\n",
              "\n",
              "        async function convertToInteractive(key) {\n",
              "          const element = document.querySelector('#df-30ae60af-815b-48be-ae0f-45c6a0f5f3ba');\n",
              "          const dataTable =\n",
              "            await google.colab.kernel.invokeFunction('convertToInteractive',\n",
              "                                                     [key], {});\n",
              "          if (!dataTable) return;\n",
              "\n",
              "          const docLinkHtml = 'Like what you see? Visit the ' +\n",
              "            '<a target=\"_blank\" href=https://colab.research.google.com/notebooks/data_table.ipynb>data table notebook</a>'\n",
              "            + ' to learn more about interactive tables.';\n",
              "          element.innerHTML = '';\n",
              "          dataTable['output_type'] = 'display_data';\n",
              "          await google.colab.output.renderOutput(dataTable, element);\n",
              "          const docLink = document.createElement('div');\n",
              "          docLink.innerHTML = docLinkHtml;\n",
              "          element.appendChild(docLink);\n",
              "        }\n",
              "      </script>\n",
              "    </div>\n",
              "  </div>\n",
              "  "
            ]
          },
          "metadata": {},
          "execution_count": 63
        }
      ]
    },
    {
      "cell_type": "code",
      "source": [
        "df['date'] = pd.to_datetime(df['date'])"
      ],
      "metadata": {
        "id": "ZpeimQHRaEWY"
      },
      "execution_count": 64,
      "outputs": []
    },
    {
      "cell_type": "code",
      "source": [
        "df.date.max()"
      ],
      "metadata": {
        "colab": {
          "base_uri": "https://localhost:8080/"
        },
        "id": "TaUrXYJVd1lv",
        "outputId": "a89e46be-2914-4a97-909e-234a6e6419e3"
      },
      "execution_count": 65,
      "outputs": [
        {
          "output_type": "execute_result",
          "data": {
            "text/plain": [
              "Timestamp('2023-07-07 00:00:00')"
            ]
          },
          "metadata": {},
          "execution_count": 65
        }
      ]
    },
    {
      "cell_type": "code",
      "source": [
        "df[' pm25'] = [int(i) if i.isdigit() else 0 for i in [i[1:] for i in df[' pm25']]]\n",
        "df[' pm10'] = [int(i) if i.isdigit() else 0 for i in [i[1:] for i in df[' pm10']]]\n",
        "df[' o3'] = [int(i) if i.isdigit() else 0 for i in [i[1:] for i in df[' o3']]]\n",
        "df[' no2'] = [int(i) if i.isdigit() else 0 for i in [i[1:] for i in df[' no2']]]\n",
        "df[' so2'] = [int(i) if i.isdigit() else 0 for i in [i[1:] for i in df[' so2']]]\n",
        "df[' co'] = [int(i) if i.isdigit() else 0 for i in [i[1:] for i in df[' co']]]"
      ],
      "metadata": {
        "id": "VCexcS9yuiiU"
      },
      "execution_count": 66,
      "outputs": []
    },
    {
      "cell_type": "code",
      "source": [
        "df=df.loc[(df[' pm25'] != 0) | (df[' pm10'] != 0)]"
      ],
      "metadata": {
        "id": "ulN4MRaDujMK"
      },
      "execution_count": 67,
      "outputs": []
    },
    {
      "cell_type": "code",
      "source": [
        "df.sort_values(by='date', inplace=True)"
      ],
      "metadata": {
        "id": "kddgGHmvujOu"
      },
      "execution_count": 68,
      "outputs": []
    },
    {
      "cell_type": "code",
      "source": [
        "df.reset_index(drop=True, inplace=True)"
      ],
      "metadata": {
        "id": "K205s0dMujSl"
      },
      "execution_count": 69,
      "outputs": []
    },
    {
      "cell_type": "code",
      "source": [
        "df['n_count'] = np.count_nonzero(df[[' pm25', ' pm10', ' o3', ' no2', ' so2', ' co']], axis=1)"
      ],
      "metadata": {
        "id": "V2qWODwkujWN"
      },
      "execution_count": 70,
      "outputs": []
    },
    {
      "cell_type": "code",
      "source": [
        "df = df.loc[df['n_count']>=3]"
      ],
      "metadata": {
        "id": "BWoCUHGsu6pB"
      },
      "execution_count": 71,
      "outputs": []
    },
    {
      "cell_type": "code",
      "source": [
        "df.rename(columns = {' pm25':'pm25', ' pm10':'pm10', ' o3':'o3', ' no2':'no2', ' so2':'so2', ' co':'co'},inplace=True)"
      ],
      "metadata": {
        "id": "cArbh5eDqJKo"
      },
      "execution_count": 72,
      "outputs": []
    },
    {
      "cell_type": "code",
      "source": [
        "df.columns"
      ],
      "metadata": {
        "colab": {
          "base_uri": "https://localhost:8080/"
        },
        "id": "HHIRyps2qO0m",
        "outputId": "4fb1d361-1972-4333-851f-e1230f5de221"
      },
      "execution_count": 73,
      "outputs": [
        {
          "output_type": "execute_result",
          "data": {
            "text/plain": [
              "Index(['date', 'pm25', 'pm10', 'o3', 'no2', 'so2', 'co', 'n_count'], dtype='object')"
            ]
          },
          "metadata": {},
          "execution_count": 73
        }
      ]
    },
    {
      "cell_type": "code",
      "source": [
        "response_API = requests.get('https://api.waqi.info/feed/solapur/?token=6e62f66525787498e49dd5df9d7a3993ff183759')\n",
        "#print(response_API.status_code)"
      ],
      "metadata": {
        "id": "R7bOLo7jd1ob"
      },
      "execution_count": 74,
      "outputs": []
    },
    {
      "cell_type": "code",
      "source": [
        "data = response_API.text"
      ],
      "metadata": {
        "id": "ZsApa6Aud1rB"
      },
      "execution_count": 75,
      "outputs": []
    },
    {
      "cell_type": "code",
      "source": [
        "df_data = json.loads(data)"
      ],
      "metadata": {
        "id": "1RDO718vd1tq"
      },
      "execution_count": 76,
      "outputs": []
    },
    {
      "cell_type": "code",
      "source": [
        "df_forecast = pd.DataFrame(columns = ['date', 'average', 'pollutant'])\n",
        "for pollutant, values in df_data['data']['forecast']['daily'].items():\n",
        "  # print(pollutant)\n",
        "  # print(values)\n",
        "  df_forecast_x = pd.DataFrame()\n",
        "  # for val in values:\n",
        "  #   print(val['avg'])\n",
        "  df_forecast_x['date'] = [i['day'] for i in values]\n",
        "  df_forecast_x['average'] = [i['avg'] for i in values]\n",
        "  df_forecast_x['pollutant'] = [pollutant] * len(values)\n",
        "  # print(df_forecast_x)\n",
        "  df_forecast = df_forecast.append(df_forecast_x)\n",
        "  # pd.concat([df_forecast,df_forecast_x])\n",
        "  # print(df_forecast)"
      ],
      "metadata": {
        "id": "HHgL4nTHd1xJ"
      },
      "execution_count": 78,
      "outputs": []
    },
    {
      "cell_type": "code",
      "source": [
        "table = pd.pivot_table(df_forecast, values ='average', index =['date'],\n",
        "                         columns =['pollutant'], aggfunc = np.sum)"
      ],
      "metadata": {
        "id": "fQMOwRKucRIx"
      },
      "execution_count": 79,
      "outputs": []
    },
    {
      "cell_type": "code",
      "source": [
        "table.reset_index(inplace = True)"
      ],
      "metadata": {
        "id": "eDkv5Alqf8ig"
      },
      "execution_count": 80,
      "outputs": []
    },
    {
      "cell_type": "code",
      "source": [
        "table = table[['date','pm25','pm10','o3']]"
      ],
      "metadata": {
        "id": "GQeoMEAvgIQ2"
      },
      "execution_count": 81,
      "outputs": []
    },
    {
      "cell_type": "code",
      "source": [
        "table['no2'] = [0]*len(table)\n",
        "table['so2'] = [0]*len(table)\n",
        "table['co'] = [0]*len(table)"
      ],
      "metadata": {
        "id": "WrQIIEFXhPjW"
      },
      "execution_count": 82,
      "outputs": []
    },
    {
      "cell_type": "code",
      "source": [
        "table['date'] = pd.to_datetime(table['date'])"
      ],
      "metadata": {
        "id": "499hPYjBjqhX"
      },
      "execution_count": 83,
      "outputs": []
    },
    {
      "cell_type": "code",
      "source": [
        "table.fillna(0, inplace=True)"
      ],
      "metadata": {
        "id": "3H1fl_OYM18Y"
      },
      "execution_count": 84,
      "outputs": []
    },
    {
      "cell_type": "code",
      "source": [
        "df = df.append(table)"
      ],
      "metadata": {
        "id": "smnCdyjAK_rp"
      },
      "execution_count": 85,
      "outputs": []
    },
    {
      "cell_type": "code",
      "source": [
        "pm10_si_list = []\n",
        "pm25_si_list = []\n",
        "so2_si_list = []\n",
        "no2_si_list = []\n",
        "co_si_list = []\n",
        "o3_si_list = []\n",
        "\n",
        "for i in df['pm10']:\n",
        "    pm10_si_list.append(pm10_sub_index(i))\n",
        "\n",
        "for i in df['pm25']:\n",
        "    pm25_si_list.append(pm25_sub_index(i))\n",
        "\n",
        "for i in df['o3']:\n",
        "    o3_si_list.append(o3_sub_index(i))\n",
        "\n",
        "for i in df['no2']:\n",
        "    no2_si_list.append(no2_sub_index(i))\n",
        "\n",
        "for i in df['so2']:\n",
        "    so2_si_list.append(so2_sub_index(i))\n",
        "\n",
        "for i in df['co']:\n",
        "    co_si_list.append(co_sub_index(i))"
      ],
      "metadata": {
        "id": "_3f4QhKiK_uR"
      },
      "execution_count": 86,
      "outputs": []
    },
    {
      "cell_type": "code",
      "source": [
        "df['pm10_si'] = pm10_si_list\n",
        "df['pm25_si'] = pm25_si_list\n",
        "df['o3_si'] = o3_si_list\n",
        "df['no2_si'] = no2_si_list\n",
        "df['so2_si'] = so2_si_list\n",
        "df['co_si'] = co_si_list"
      ],
      "metadata": {
        "id": "dPEPrub2K_w4"
      },
      "execution_count": 88,
      "outputs": []
    },
    {
      "cell_type": "code",
      "source": [
        "df['AQI'] = df[['pm10_si', 'pm25_si', 'o3_si', 'no2_si', 'so2_si', 'co_si']].max(axis = 1)"
      ],
      "metadata": {
        "id": "j1diECbdK_zb"
      },
      "execution_count": 90,
      "outputs": []
    },
    {
      "cell_type": "code",
      "source": [
        "df['no2'] = df['no2'].astype('float')\n",
        "df['so2'] = df['so2'].astype('float')\n",
        "df['co'] = df['co'].astype('float')"
      ],
      "metadata": {
        "colab": {
          "base_uri": "https://localhost:8080/",
          "height": 423
        },
        "id": "x3uWD3ZvK_25",
        "outputId": "98fdaa9e-906f-43ca-ded5-a515afae7afc"
      },
      "execution_count": 91,
      "outputs": [
        {
          "output_type": "execute_result",
          "data": {
            "text/plain": [
              "         date   pm25   pm10    o3  no2  so2  co  n_count     pm10_si  \\\n",
              "0  2016-01-03    0.0  126.0  18.0   18    8  22      5.0  117.333333   \n",
              "1  2016-01-04  145.0  121.0  16.0   17    8  27      6.0  114.000000   \n",
              "2  2016-01-05  147.0  103.0  15.0   16    8  30      6.0  102.000000   \n",
              "3  2016-01-06  151.0  115.0  16.0   16    8  26      6.0  110.000000   \n",
              "4  2016-01-07  147.0  103.0  16.0   16    8  23      6.0  102.000000   \n",
              "..        ...    ...    ...   ...  ...  ...  ..      ...         ...   \n",
              "4  2023-07-12  121.0   58.0   6.0    0    0   0      NaN   58.000000   \n",
              "5  2023-07-13   97.0   50.0   6.0    0    0   0      NaN   50.000000   \n",
              "6  2023-07-14   70.0   31.0   5.0    0    0   0      NaN   31.000000   \n",
              "7  2023-07-15   80.0   45.0   4.0    0    0   0      NaN   45.000000   \n",
              "8  2023-07-16   86.0   46.0   0.0    0    0   0      NaN   46.000000   \n",
              "\n",
              "       pm25_si  o3_si  no2_si  so2_si       co_si         AQI  \n",
              "0     0.000000   18.0   22.50    10.0  329.411765  329.411765  \n",
              "1   319.230769   16.0   21.25    10.0  358.823529  358.823529  \n",
              "2   320.769231   15.0   20.00    10.0  376.470588  376.470588  \n",
              "3   323.846154   16.0   20.00    10.0  352.941176  352.941176  \n",
              "4   320.769231   16.0   20.00    10.0  335.294118  335.294118  \n",
              "..         ...    ...     ...     ...         ...         ...  \n",
              "4   300.769231    6.0    0.00     0.0    0.000000  300.769231  \n",
              "5   223.333333    6.0    0.00     0.0    0.000000  223.333333  \n",
              "6   133.333333    5.0    0.00     0.0    0.000000  133.333333  \n",
              "7   166.666667    4.0    0.00     0.0    0.000000  166.666667  \n",
              "8   186.666667    0.0    0.00     0.0    0.000000  186.666667  \n",
              "\n",
              "[2187 rows x 15 columns]"
            ],
            "text/html": [
              "\n",
              "  <div id=\"df-39c936ea-4bcc-45cf-b56b-b0737ef19241\">\n",
              "    <div class=\"colab-df-container\">\n",
              "      <div>\n",
              "<style scoped>\n",
              "    .dataframe tbody tr th:only-of-type {\n",
              "        vertical-align: middle;\n",
              "    }\n",
              "\n",
              "    .dataframe tbody tr th {\n",
              "        vertical-align: top;\n",
              "    }\n",
              "\n",
              "    .dataframe thead th {\n",
              "        text-align: right;\n",
              "    }\n",
              "</style>\n",
              "<table border=\"1\" class=\"dataframe\">\n",
              "  <thead>\n",
              "    <tr style=\"text-align: right;\">\n",
              "      <th></th>\n",
              "      <th>date</th>\n",
              "      <th>pm25</th>\n",
              "      <th>pm10</th>\n",
              "      <th>o3</th>\n",
              "      <th>no2</th>\n",
              "      <th>so2</th>\n",
              "      <th>co</th>\n",
              "      <th>n_count</th>\n",
              "      <th>pm10_si</th>\n",
              "      <th>pm25_si</th>\n",
              "      <th>o3_si</th>\n",
              "      <th>no2_si</th>\n",
              "      <th>so2_si</th>\n",
              "      <th>co_si</th>\n",
              "      <th>AQI</th>\n",
              "    </tr>\n",
              "  </thead>\n",
              "  <tbody>\n",
              "    <tr>\n",
              "      <th>0</th>\n",
              "      <td>2016-01-03</td>\n",
              "      <td>0.0</td>\n",
              "      <td>126.0</td>\n",
              "      <td>18.0</td>\n",
              "      <td>18</td>\n",
              "      <td>8</td>\n",
              "      <td>22</td>\n",
              "      <td>5.0</td>\n",
              "      <td>117.333333</td>\n",
              "      <td>0.000000</td>\n",
              "      <td>18.0</td>\n",
              "      <td>22.50</td>\n",
              "      <td>10.0</td>\n",
              "      <td>329.411765</td>\n",
              "      <td>329.411765</td>\n",
              "    </tr>\n",
              "    <tr>\n",
              "      <th>1</th>\n",
              "      <td>2016-01-04</td>\n",
              "      <td>145.0</td>\n",
              "      <td>121.0</td>\n",
              "      <td>16.0</td>\n",
              "      <td>17</td>\n",
              "      <td>8</td>\n",
              "      <td>27</td>\n",
              "      <td>6.0</td>\n",
              "      <td>114.000000</td>\n",
              "      <td>319.230769</td>\n",
              "      <td>16.0</td>\n",
              "      <td>21.25</td>\n",
              "      <td>10.0</td>\n",
              "      <td>358.823529</td>\n",
              "      <td>358.823529</td>\n",
              "    </tr>\n",
              "    <tr>\n",
              "      <th>2</th>\n",
              "      <td>2016-01-05</td>\n",
              "      <td>147.0</td>\n",
              "      <td>103.0</td>\n",
              "      <td>15.0</td>\n",
              "      <td>16</td>\n",
              "      <td>8</td>\n",
              "      <td>30</td>\n",
              "      <td>6.0</td>\n",
              "      <td>102.000000</td>\n",
              "      <td>320.769231</td>\n",
              "      <td>15.0</td>\n",
              "      <td>20.00</td>\n",
              "      <td>10.0</td>\n",
              "      <td>376.470588</td>\n",
              "      <td>376.470588</td>\n",
              "    </tr>\n",
              "    <tr>\n",
              "      <th>3</th>\n",
              "      <td>2016-01-06</td>\n",
              "      <td>151.0</td>\n",
              "      <td>115.0</td>\n",
              "      <td>16.0</td>\n",
              "      <td>16</td>\n",
              "      <td>8</td>\n",
              "      <td>26</td>\n",
              "      <td>6.0</td>\n",
              "      <td>110.000000</td>\n",
              "      <td>323.846154</td>\n",
              "      <td>16.0</td>\n",
              "      <td>20.00</td>\n",
              "      <td>10.0</td>\n",
              "      <td>352.941176</td>\n",
              "      <td>352.941176</td>\n",
              "    </tr>\n",
              "    <tr>\n",
              "      <th>4</th>\n",
              "      <td>2016-01-07</td>\n",
              "      <td>147.0</td>\n",
              "      <td>103.0</td>\n",
              "      <td>16.0</td>\n",
              "      <td>16</td>\n",
              "      <td>8</td>\n",
              "      <td>23</td>\n",
              "      <td>6.0</td>\n",
              "      <td>102.000000</td>\n",
              "      <td>320.769231</td>\n",
              "      <td>16.0</td>\n",
              "      <td>20.00</td>\n",
              "      <td>10.0</td>\n",
              "      <td>335.294118</td>\n",
              "      <td>335.294118</td>\n",
              "    </tr>\n",
              "    <tr>\n",
              "      <th>...</th>\n",
              "      <td>...</td>\n",
              "      <td>...</td>\n",
              "      <td>...</td>\n",
              "      <td>...</td>\n",
              "      <td>...</td>\n",
              "      <td>...</td>\n",
              "      <td>...</td>\n",
              "      <td>...</td>\n",
              "      <td>...</td>\n",
              "      <td>...</td>\n",
              "      <td>...</td>\n",
              "      <td>...</td>\n",
              "      <td>...</td>\n",
              "      <td>...</td>\n",
              "      <td>...</td>\n",
              "    </tr>\n",
              "    <tr>\n",
              "      <th>4</th>\n",
              "      <td>2023-07-12</td>\n",
              "      <td>121.0</td>\n",
              "      <td>58.0</td>\n",
              "      <td>6.0</td>\n",
              "      <td>0</td>\n",
              "      <td>0</td>\n",
              "      <td>0</td>\n",
              "      <td>NaN</td>\n",
              "      <td>58.000000</td>\n",
              "      <td>300.769231</td>\n",
              "      <td>6.0</td>\n",
              "      <td>0.00</td>\n",
              "      <td>0.0</td>\n",
              "      <td>0.000000</td>\n",
              "      <td>300.769231</td>\n",
              "    </tr>\n",
              "    <tr>\n",
              "      <th>5</th>\n",
              "      <td>2023-07-13</td>\n",
              "      <td>97.0</td>\n",
              "      <td>50.0</td>\n",
              "      <td>6.0</td>\n",
              "      <td>0</td>\n",
              "      <td>0</td>\n",
              "      <td>0</td>\n",
              "      <td>NaN</td>\n",
              "      <td>50.000000</td>\n",
              "      <td>223.333333</td>\n",
              "      <td>6.0</td>\n",
              "      <td>0.00</td>\n",
              "      <td>0.0</td>\n",
              "      <td>0.000000</td>\n",
              "      <td>223.333333</td>\n",
              "    </tr>\n",
              "    <tr>\n",
              "      <th>6</th>\n",
              "      <td>2023-07-14</td>\n",
              "      <td>70.0</td>\n",
              "      <td>31.0</td>\n",
              "      <td>5.0</td>\n",
              "      <td>0</td>\n",
              "      <td>0</td>\n",
              "      <td>0</td>\n",
              "      <td>NaN</td>\n",
              "      <td>31.000000</td>\n",
              "      <td>133.333333</td>\n",
              "      <td>5.0</td>\n",
              "      <td>0.00</td>\n",
              "      <td>0.0</td>\n",
              "      <td>0.000000</td>\n",
              "      <td>133.333333</td>\n",
              "    </tr>\n",
              "    <tr>\n",
              "      <th>7</th>\n",
              "      <td>2023-07-15</td>\n",
              "      <td>80.0</td>\n",
              "      <td>45.0</td>\n",
              "      <td>4.0</td>\n",
              "      <td>0</td>\n",
              "      <td>0</td>\n",
              "      <td>0</td>\n",
              "      <td>NaN</td>\n",
              "      <td>45.000000</td>\n",
              "      <td>166.666667</td>\n",
              "      <td>4.0</td>\n",
              "      <td>0.00</td>\n",
              "      <td>0.0</td>\n",
              "      <td>0.000000</td>\n",
              "      <td>166.666667</td>\n",
              "    </tr>\n",
              "    <tr>\n",
              "      <th>8</th>\n",
              "      <td>2023-07-16</td>\n",
              "      <td>86.0</td>\n",
              "      <td>46.0</td>\n",
              "      <td>0.0</td>\n",
              "      <td>0</td>\n",
              "      <td>0</td>\n",
              "      <td>0</td>\n",
              "      <td>NaN</td>\n",
              "      <td>46.000000</td>\n",
              "      <td>186.666667</td>\n",
              "      <td>0.0</td>\n",
              "      <td>0.00</td>\n",
              "      <td>0.0</td>\n",
              "      <td>0.000000</td>\n",
              "      <td>186.666667</td>\n",
              "    </tr>\n",
              "  </tbody>\n",
              "</table>\n",
              "<p>2187 rows × 15 columns</p>\n",
              "</div>\n",
              "      <button class=\"colab-df-convert\" onclick=\"convertToInteractive('df-39c936ea-4bcc-45cf-b56b-b0737ef19241')\"\n",
              "              title=\"Convert this dataframe to an interactive table.\"\n",
              "              style=\"display:none;\">\n",
              "        \n",
              "  <svg xmlns=\"http://www.w3.org/2000/svg\" height=\"24px\"viewBox=\"0 0 24 24\"\n",
              "       width=\"24px\">\n",
              "    <path d=\"M0 0h24v24H0V0z\" fill=\"none\"/>\n",
              "    <path d=\"M18.56 5.44l.94 2.06.94-2.06 2.06-.94-2.06-.94-.94-2.06-.94 2.06-2.06.94zm-11 1L8.5 8.5l.94-2.06 2.06-.94-2.06-.94L8.5 2.5l-.94 2.06-2.06.94zm10 10l.94 2.06.94-2.06 2.06-.94-2.06-.94-.94-2.06-.94 2.06-2.06.94z\"/><path d=\"M17.41 7.96l-1.37-1.37c-.4-.4-.92-.59-1.43-.59-.52 0-1.04.2-1.43.59L10.3 9.45l-7.72 7.72c-.78.78-.78 2.05 0 2.83L4 21.41c.39.39.9.59 1.41.59.51 0 1.02-.2 1.41-.59l7.78-7.78 2.81-2.81c.8-.78.8-2.07 0-2.86zM5.41 20L4 18.59l7.72-7.72 1.47 1.35L5.41 20z\"/>\n",
              "  </svg>\n",
              "      </button>\n",
              "      \n",
              "  <style>\n",
              "    .colab-df-container {\n",
              "      display:flex;\n",
              "      flex-wrap:wrap;\n",
              "      gap: 12px;\n",
              "    }\n",
              "\n",
              "    .colab-df-convert {\n",
              "      background-color: #E8F0FE;\n",
              "      border: none;\n",
              "      border-radius: 50%;\n",
              "      cursor: pointer;\n",
              "      display: none;\n",
              "      fill: #1967D2;\n",
              "      height: 32px;\n",
              "      padding: 0 0 0 0;\n",
              "      width: 32px;\n",
              "    }\n",
              "\n",
              "    .colab-df-convert:hover {\n",
              "      background-color: #E2EBFA;\n",
              "      box-shadow: 0px 1px 2px rgba(60, 64, 67, 0.3), 0px 1px 3px 1px rgba(60, 64, 67, 0.15);\n",
              "      fill: #174EA6;\n",
              "    }\n",
              "\n",
              "    [theme=dark] .colab-df-convert {\n",
              "      background-color: #3B4455;\n",
              "      fill: #D2E3FC;\n",
              "    }\n",
              "\n",
              "    [theme=dark] .colab-df-convert:hover {\n",
              "      background-color: #434B5C;\n",
              "      box-shadow: 0px 1px 3px 1px rgba(0, 0, 0, 0.15);\n",
              "      filter: drop-shadow(0px 1px 2px rgba(0, 0, 0, 0.3));\n",
              "      fill: #FFFFFF;\n",
              "    }\n",
              "  </style>\n",
              "\n",
              "      <script>\n",
              "        const buttonEl =\n",
              "          document.querySelector('#df-39c936ea-4bcc-45cf-b56b-b0737ef19241 button.colab-df-convert');\n",
              "        buttonEl.style.display =\n",
              "          google.colab.kernel.accessAllowed ? 'block' : 'none';\n",
              "\n",
              "        async function convertToInteractive(key) {\n",
              "          const element = document.querySelector('#df-39c936ea-4bcc-45cf-b56b-b0737ef19241');\n",
              "          const dataTable =\n",
              "            await google.colab.kernel.invokeFunction('convertToInteractive',\n",
              "                                                     [key], {});\n",
              "          if (!dataTable) return;\n",
              "\n",
              "          const docLinkHtml = 'Like what you see? Visit the ' +\n",
              "            '<a target=\"_blank\" href=https://colab.research.google.com/notebooks/data_table.ipynb>data table notebook</a>'\n",
              "            + ' to learn more about interactive tables.';\n",
              "          element.innerHTML = '';\n",
              "          dataTable['output_type'] = 'display_data';\n",
              "          await google.colab.output.renderOutput(dataTable, element);\n",
              "          const docLink = document.createElement('div');\n",
              "          docLink.innerHTML = docLinkHtml;\n",
              "          element.appendChild(docLink);\n",
              "        }\n",
              "      </script>\n",
              "    </div>\n",
              "  </div>\n",
              "  "
            ]
          },
          "metadata": {},
          "execution_count": 91
        }
      ]
    },
    {
      "cell_type": "code",
      "source": [
        "import hopsworks\n",
        "\n",
        "project = hopsworks.login()\n",
        "\n",
        "fs = project.get_feature_store()"
      ],
      "metadata": {
        "id": "JgzkOrp6lOS_"
      },
      "execution_count": null,
      "outputs": []
    },
    {
      "cell_type": "code",
      "source": [
        "!pip install --upgrade jinja2==3.0.3"
      ],
      "metadata": {
        "id": "tx71RwI_mFIZ"
      },
      "execution_count": null,
      "outputs": []
    },
    {
      "cell_type": "code",
      "source": [
        "!pip uninstall jinja2"
      ],
      "metadata": {
        "id": "d8SYT3hCmFOG"
      },
      "execution_count": null,
      "outputs": []
    },
    {
      "cell_type": "code",
      "source": [
        "AQI_feature_group = fs.get_or_create_feature_group(\n",
        "    name='air_quality',\n",
        "    description='Parameters for AQI',\n",
        "    version=1,\n",
        "    primary_key=['date'],\n",
        "    online_enabled=False,\n",
        "\n",
        ")"
      ],
      "metadata": {
        "id": "Nz9QzX7dmFQi"
      },
      "execution_count": 104,
      "outputs": []
    },
    {
      "cell_type": "code",
      "source": [
        "AQI_feature_group.insert(df, write_options={\"wait_for_job\": False})"
      ],
      "metadata": {
        "id": "gOlvI0r9mFUE"
      },
      "execution_count": null,
      "outputs": []
    },
    {
      "cell_type": "code",
      "source": [],
      "metadata": {
        "id": "TIqztO3mNtkf"
      },
      "execution_count": null,
      "outputs": []
    }
  ]
}